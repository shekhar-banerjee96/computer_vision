{
 "cells": [
  {
   "cell_type": "code",
   "execution_count": 1,
   "metadata": {},
   "outputs": [],
   "source": [
    "#! pip install opencv-python"
   ]
  },
  {
   "cell_type": "code",
   "execution_count": 2,
   "metadata": {},
   "outputs": [],
   "source": [
    "import cv2\n",
    "import numpy as np"
   ]
  },
  {
   "cell_type": "code",
   "execution_count": 4,
   "metadata": {},
   "outputs": [],
   "source": [
    "image  = cv2.imread('images.jpeg')\n",
    "cv2.imshow('Armas' , image)\n",
    "cv2.waitKey() # need to write always , asling to wait till another input shown\n",
    "cv2.destroyAllWindows()"
   ]
  },
  {
   "cell_type": "code",
   "execution_count": 5,
   "metadata": {},
   "outputs": [
    {
     "data": {
      "text/plain": [
       "(300, 168, 3)"
      ]
     },
     "execution_count": 5,
     "metadata": {},
     "output_type": "execute_result"
    }
   ],
   "source": [
    "image.shape"
   ]
  },
  {
   "cell_type": "code",
   "execution_count": 6,
   "metadata": {},
   "outputs": [
    {
     "data": {
      "text/plain": [
       "True"
      ]
     },
     "execution_count": 6,
     "metadata": {},
     "output_type": "execute_result"
    }
   ],
   "source": [
    "cv2.imwrite(\"local_copy_armas.jpeg\",image)"
   ]
  },
  {
   "cell_type": "markdown",
   "metadata": {},
   "source": [
    "#### Convert to Black and White"
   ]
  },
  {
   "cell_type": "code",
   "execution_count": 7,
   "metadata": {},
   "outputs": [],
   "source": [
    "# convert color image to Gray - Scale with cvtcolor (convert color)\n",
    "gray_image = cv2.cvtColor(image , cv2.COLOR_BGR2GRAY)\n",
    "cv2.imshow('modi black and white',gray_image)\n",
    "cv2.waitKey()\n",
    "cv2.destroyAllWindows()"
   ]
  },
  {
   "cell_type": "code",
   "execution_count": 8,
   "metadata": {},
   "outputs": [
    {
     "data": {
      "text/plain": [
       "(300, 168, 3)"
      ]
     },
     "execution_count": 8,
     "metadata": {},
     "output_type": "execute_result"
    }
   ],
   "source": [
    "image.shape"
   ]
  },
  {
   "cell_type": "code",
   "execution_count": 11,
   "metadata": {},
   "outputs": [],
   "source": [
    "resequenced_image = cv2.cvtColor(image , cv2.COLOR_BGR2RGB)\n",
    "cv2.imshow('resequenced',resequenced_image)\n",
    "cv2.waitKey()\n",
    "\n",
    "color_img1 = cv2.cvtColor(image, cv2.COLOR_BGR2Luv) \n",
    "cv2.waitKey()\n",
    "\n",
    "color_img2 = cv2.cvtColor(image, cv2.COLOR_BGR2HSV)\n",
    "cv2.imshow(\"Color Image\", color_img2)\n",
    "cv2.waitKey()\n",
    "\n",
    "cv2.destroyAllWindows()"
   ]
  },
  {
   "cell_type": "markdown",
   "metadata": {},
   "source": [
    "# Drawing image and shapes using OpenCV(CV2)"
   ]
  },
  {
   "cell_type": "code",
   "execution_count": 13,
   "metadata": {},
   "outputs": [],
   "source": [
    "import numpy as np\n",
    "import cv2\n",
    "\n",
    "image = np.zeros((512,512,3))\n",
    "image_bw = np.zeros((512,512,1))\n",
    "\n",
    "cv2.imshow(\"Black Rectangle (Color)\", image)\n",
    "cv2.imshow(\"Black Rectangle (B&W)\", image_bw)\n",
    "\n",
    "cv2.waitKey()\n",
    "\n",
    "cv2.destroyAllWindows()"
   ]
  },
  {
   "cell_type": "markdown",
   "metadata": {},
   "source": [
    "### Let's draw a line over our black square"
   ]
  },
  {
   "cell_type": "code",
   "execution_count": 14,
   "metadata": {},
   "outputs": [],
   "source": [
    "image = np.zeros((512,512,3))\n",
    "cv2.line(image, (0,0),(400,400), (255,127,0), 5)\n",
    "cv2.imshow(\"Line\", image)\n",
    "cv2.waitKey()\n",
    "\n",
    "cv2.destroyAllWindows()"
   ]
  },
  {
   "cell_type": "markdown",
   "metadata": {},
   "source": [
    "## Create a Rectangle"
   ]
  },
  {
   "cell_type": "code",
   "execution_count": 15,
   "metadata": {},
   "outputs": [],
   "source": [
    "image = np.zeros((512,512,3))\n",
    "cv2.rectangle(image, (100,100),(300,400), (255,127,0), -1)\n",
    "cv2.imshow(\"Rectangle\", image)\n",
    "cv2.waitKey()\n",
    "\n",
    "cv2.destroyAllWindows()"
   ]
  },
  {
   "cell_type": "markdown",
   "metadata": {},
   "source": [
    "## Create a Circle"
   ]
  },
  {
   "cell_type": "code",
   "execution_count": 16,
   "metadata": {},
   "outputs": [],
   "source": [
    "image = np.zeros((512,512,3))\n",
    "cv2.circle(image, (300,300),100, (50,255,10), -1)\n",
    "cv2.imshow(\"circle\", image)\n",
    "cv2.waitKey()\n",
    "\n",
    "cv2.destroyAllWindows()"
   ]
  },
  {
   "cell_type": "markdown",
   "metadata": {},
   "source": [
    "## Create a Square"
   ]
  },
  {
   "cell_type": "code",
   "execution_count": 17,
   "metadata": {},
   "outputs": [],
   "source": [
    "image = np.zeros((512,512,3))\n",
    "cv2.rectangle(image, (100,100),(400,400), (255,127,0), -1)\n",
    "cv2.imshow(\"Rectangle\", image)\n",
    "cv2.waitKey()\n",
    "\n",
    "cv2.destroyAllWindows()"
   ]
  },
  {
   "cell_type": "markdown",
   "metadata": {},
   "source": [
    "## Day 2\n",
    "\n",
    "### Text"
   ]
  },
  {
   "cell_type": "code",
   "execution_count": 1,
   "metadata": {},
   "outputs": [],
   "source": [
    "import numpy as np\n",
    "import cv2"
   ]
  },
  {
   "cell_type": "code",
   "execution_count": 2,
   "metadata": {},
   "outputs": [],
   "source": [
    "# Test Image \n",
    "\n",
    "image = np.zeros((512,512,3))\n",
    "\n",
    "cv2.putText(image ,'Good Morning !',\n",
    "            (75,290),\n",
    "            cv2.FONT_HERSHEY_COMPLEX,\n",
    "            2,(100,170,0),2)\n",
    "\n",
    "cv2.imshow(\"Good Morning\", image)\n",
    "\n",
    "cv2.waitKey(0)\n",
    "\n",
    "cv2.destroyAllWindows()"
   ]
  },
  {
   "cell_type": "markdown",
   "metadata": {},
   "source": [
    "### Affine Transformation"
   ]
  },
  {
   "cell_type": "code",
   "execution_count": 10,
   "metadata": {},
   "outputs": [],
   "source": [
    "# cv2.warpAffine\n",
    "import numpy as np\n",
    "import cv2\n",
    "\n",
    "image = cv2.imread('modi_image.jpeg')\n",
    "# store height and width of the image\n",
    "\n",
    "height, width = image.shape[:2]\n",
    "\n",
    "quarter_height, quarter_width = height/4,width/4\n",
    "quarter_height1, quarter_width1 = height/3,width/3\n",
    "\n",
    "T = np.float32([[1,0,quarter_width],[0,1,quarter_height]])\n",
    "T1 = np.float32([[1,0,quarter_width1],[0,1,quarter_height1]])\n",
    "\n",
    "img_translation = cv2.warpAffine(image, T, (width, height))\n",
    "img_translation1 = cv2.warpAffine(image, T1, (width, height))\n",
    "\n",
    "cv2.imshow(\"Translation\", img_translation)\n",
    "cv2.imshow(\"Translation1\", img_translation1)\n",
    "cv2.imshow(\"original image\", image)\n",
    "cv2.waitKey(0)\n",
    "cv2.destroyAllWindows()"
   ]
  },
  {
   "cell_type": "code",
   "execution_count": 6,
   "metadata": {},
   "outputs": [],
   "source": [
    "image =  cv2.imread('modi_image.jpeg')\n",
    "\n",
    "image_scaled = cv2.resize(image,None, fx = 0.5 , fy = 0.5)\n",
    "cv2.imshow(\"original image\", image)\n",
    "cv2.imshow(\"Sacling - Linear Transformation\", image)\n",
    "cv2.waitKey(0)\n",
    "cv2.destroyAllWindows()"
   ]
  },
  {
   "cell_type": "markdown",
   "metadata": {},
   "source": [
    "# Rotations"
   ]
  },
  {
   "cell_type": "code",
   "execution_count": 17,
   "metadata": {},
   "outputs": [],
   "source": [
    "# cv2.getRotationMatrix2D\n",
    "\n",
    "import numpy as np\n",
    "import cv2\n",
    "\n",
    "image = cv2.imread('modi_image.jpeg')\n",
    "# store height and width of the image\n",
    "\n",
    "height, width = image.shape[:2]\n",
    "\n",
    "# Divide by two to rotate the image around its centre\n",
    "# cv.getRotationMatrix2D(\tcenter, angle, scale\t) ->\tretval\n",
    "\n",
    "rotation_matrix = cv2.getRotationMatrix2D((width/2, height/2),60, .5)\n",
    "\n",
    "rotated_image = cv2.warpAffine(image, rotation_matrix, (width, height))\n",
    "\n",
    "cv2.imshow(\"rotation image\", rotated_image)\n",
    "cv2.waitKey(0)\n",
    "cv2.imshow(\"original image\", image)\n",
    "cv2.waitKey(0)\n",
    "cv2.destroyAllWindows()"
   ]
  },
  {
   "cell_type": "markdown",
   "metadata": {},
   "source": [
    "# Scaling, re-sizing and interpolations"
   ]
  },
  {
   "cell_type": "code",
   "execution_count": 19,
   "metadata": {},
   "outputs": [],
   "source": [
    "import numpy as np\n",
    "import cv2\n",
    "\n",
    "image = cv2.imread('images.jpeg')\n",
    "\n",
    "image_scaled = cv2.resize(image, None,fx = 0.5, fy = 0.5)\n",
    "\n",
    "image_scaled1 = cv2.resize(image, None,fx = 0.5, fy = 0.5, interpolation = cv2.INTER_NEAREST)\n",
    "image_scaled2 = cv2.resize(image, (400,400), interpolation = cv2.INTER_AREA)\n",
    "image_scaled3 = cv2.resize(image, (400,400), interpolation = cv2.INTER_CUBIC)\n",
    "cv2.imshow(\"INTER_NEAREST\", image_scaled1)\n",
    "cv2.imshow(\"INTER_AREA\", image_scaled2)\n",
    "cv2.imshow(\"INTER_CUBIC\", image_scaled3)\n",
    "cv2.waitKey(0)\n",
    "cv2.destroyAllWindows()"
   ]
  },
  {
   "cell_type": "markdown",
   "metadata": {},
   "source": [
    "# Image Pyramids"
   ]
  },
  {
   "cell_type": "code",
   "execution_count": 20,
   "metadata": {},
   "outputs": [],
   "source": [
    "import numpy as np\n",
    "import cv2\n",
    "image = cv2.imread('modi_image.jpeg')\n",
    "smaller = cv2.pyrDown(image)\n",
    "larger = cv2.pyrUp(image)\n",
    "cv2.imshow(\"original image\", image)\n",
    "cv2.imshow(\"smaller\", smaller)\n",
    "cv2.imshow(\"larger\", larger)\n",
    "cv2.waitKey(0)\n",
    "cv2.destroyAllWindows()"
   ]
  },
  {
   "cell_type": "markdown",
   "metadata": {},
   "source": [
    "# Cropping"
   ]
  },
  {
   "cell_type": "code",
   "execution_count": 24,
   "metadata": {},
   "outputs": [],
   "source": [
    "import numpy as np\n",
    "import cv2\n",
    "image = cv2.imread('input.jpg')\n",
    "height, width = image.shape[:2]\n",
    "start_row, start_col = int(height * 0.30 ), int(width * 0.30)\n",
    "end_row, end_col = int(height * 0.9), int(width * 0.9)\n",
    "cropped = image[start_row:end_row, start_col:end_col]\n",
    "cv2.imshow(\"original image\", image)\n",
    "cv2.imshow(\"cropped image\", cropped)\n",
    "cv2.waitKey(0)\n",
    "cv2.destroyAllWindows()"
   ]
  },
  {
   "cell_type": "markdown",
   "metadata": {},
   "source": [
    "# Arithmetic Operations"
   ]
  },
  {
   "cell_type": "code",
   "execution_count": 25,
   "metadata": {},
   "outputs": [],
   "source": [
    "import numpy as np\n",
    "import cv2\n",
    "image = cv2.imread('sudoku.PNG')\n",
    "\n",
    "M = np.zeros(image.shape, dtype = 'uint8') + 150\n",
    "\n",
    "added = cv2.add(image, M)\n",
    "subtracted = cv2.subtract(image, M)\n",
    "cv2.imshow(\"original image\", image)\n",
    "cv2.imshow(\"Added image\", added)\n",
    "cv2.imshow(\"subtracted image\", subtracted)\n",
    "cv2.waitKey(0)\n",
    "cv2.destroyAllWindows()"
   ]
  },
  {
   "cell_type": "markdown",
   "metadata": {},
   "source": [
    "# Mini Project  - Live Sketch using our webcam"
   ]
  },
  {
   "cell_type": "code",
   "execution_count": 28,
   "metadata": {},
   "outputs": [],
   "source": [
    "import numpy as np\n",
    "import cv2\n",
    "\n",
    "def sketch(image):\n",
    "    # change color image to gray image\n",
    "    img_gray = cv2.cvtColor(image, cv2.COLOR_BGR2GRAY)\n",
    "    # blur the image\n",
    "    img_gray_blur = cv2.GaussianBlur(img_gray, (7,5), 0)\n",
    "    # extract edge\n",
    "    canny_edges = cv2.Canny(img_gray_blur,10,70)\n",
    "    # binarize the image\n",
    "    _ , mask = cv2.threshold(canny_edges, 70, 255, cv2.THRESH_BINARY_INV)\n",
    "    return mask\n",
    "\n",
    "cap = cv2.VideoCapture(0)\n",
    "\n",
    "while True:\n",
    "    _ , frame = cap.read()\n",
    "    cv2.imshow('Our Live Sketcher', sketch(frame))\n",
    "    if cv2.waitKey(1) == 13:\n",
    "        break\n",
    "\n",
    "# release camera and close windows\n",
    "cap.release()\n",
    "cv2.destroyAllWindows()"
   ]
  },
  {
   "cell_type": "code",
   "execution_count": null,
   "metadata": {},
   "outputs": [],
   "source": []
  }
 ],
 "metadata": {
  "kernelspec": {
   "display_name": "cvis",
   "language": "python",
   "name": "python3"
  },
  "language_info": {
   "codemirror_mode": {
    "name": "ipython",
    "version": 3
   },
   "file_extension": ".py",
   "mimetype": "text/x-python",
   "name": "python",
   "nbconvert_exporter": "python",
   "pygments_lexer": "ipython3",
   "version": "3.9.15"
  }
 },
 "nbformat": 4,
 "nbformat_minor": 2
}
